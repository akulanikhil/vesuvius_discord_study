{
 "cells": [
  {
   "metadata": {
    "ExecuteTime": {
     "end_time": "2025-04-22T17:53:43.739665Z",
     "start_time": "2025-04-22T17:53:42.195240Z"
    }
   },
   "cell_type": "code",
   "source": [
    "from langchain_chroma import Chroma\n",
    "from langchain_huggingface.embeddings import HuggingFaceEmbeddings\n",
    "\n",
    "embedding_model = HuggingFaceEmbeddings()\n",
    "database_loc = (\"./chroma_db_test6\")\n",
    "\n",
    "vectorstore = Chroma(persist_directory=database_loc,\n",
    "                     embedding_function=embedding_model)\n",
    "retriever = vectorstore.as_retriever(search_type=\"similarity\", search_kwargs={\"k\": 8})"
   ],
   "id": "81ce64417230e3f9",
   "outputs": [],
   "execution_count": 25
  },
  {
   "metadata": {
    "ExecuteTime": {
     "end_time": "2025-04-22T17:53:45.468458Z",
     "start_time": "2025-04-22T17:53:45.446124Z"
    }
   },
   "cell_type": "code",
   "source": [
    "from langchain_ollama import OllamaLLM\n",
    "from langchain.callbacks.manager import CallbackManager\n",
    "from langchain.callbacks.streaming_stdout import StreamingStdOutCallbackHandler\n",
    "\n",
    "llm = OllamaLLM(model='llama3.2:latest')\n",
    "llm2 = OllamaLLM(model='deepseek-r1:latest')\n",
    "from langchain_core.prompts import PromptTemplate\n",
    "\n",
    "template = \"\"\"You are an AI assistant for the Vesuvius Challenge discord, which is a a global initiative using machine learning and computer vision to decipher the contents of the charred Herculaneum scrolls, aiming to unlock ancient knowledge without physically damaging the fragile artifacts. You will be asked questions about the challenge and will also be a provided with retrieved context from relevant discord chats. Additionally you may be asked questions about the overall sentiment of the discord chats or high level topics from the discord server. Answer the question using the provided information, which are chats from the discord server, which may contain questions, replies, etc. Use only the provided information to generate your response, do not assume or make up any details. If you do not have enough information, state \"Based on the provided context, I am unable to generate a response\". Stay focused only the question that follows \"Question:\" and give as much detail as possible. Do not summarize the context you should only be answering the question that follows \"Question:\". Here is your context:\n",
    "{context}\n",
    "Question: {question}\n",
    "\n",
    "Answer:\"\"\"\n",
    "\n",
    "prompt = PromptTemplate.from_template(template)"
   ],
   "id": "10f5ffe7eae8727e",
   "outputs": [],
   "execution_count": 26
  },
  {
   "metadata": {
    "ExecuteTime": {
     "end_time": "2025-04-22T17:53:47.677847Z",
     "start_time": "2025-04-22T17:53:47.672834Z"
    }
   },
   "cell_type": "code",
   "source": [
    "from typing_extensions import List, TypedDict\n",
    "from langchain_core.documents import Document\n",
    "\n",
    "\n",
    "# Define state for application\n",
    "class State(TypedDict):\n",
    "    question: str\n",
    "    context: List[Document]\n",
    "    answer: str\n",
    "\n",
    "\n",
    "# Define application steps\n",
    "def retrieve(state: State):\n",
    "    retrieved_docs = vectorstore.similarity_search(state[\"question\"], k=8)\n",
    "    return {\"context\": retrieved_docs}\n",
    "\n",
    "\n",
    "def generate(state: State):\n",
    "    docs_content = \"\\n\\n\".join(doc.page_content for doc in state[\"context\"])\n",
    "    messages = prompt.invoke({\"question\": state[\"question\"], \"context\": docs_content})\n",
    "    response = llm.invoke(messages)\n",
    "    return {\"answer\": response}\n",
    "\n"
   ],
   "id": "7d8652372ce6b7d3",
   "outputs": [],
   "execution_count": 27
  },
  {
   "metadata": {
    "ExecuteTime": {
     "end_time": "2025-04-22T17:53:49.733242Z",
     "start_time": "2025-04-22T17:53:49.634668Z"
    }
   },
   "cell_type": "code",
   "source": [
    "from langgraph.graph import START, StateGraph\n",
    "\n",
    "# Compile application and test\n",
    "graph_builder = StateGraph(State).add_sequence([retrieve, generate])\n",
    "graph_builder.add_edge(START, \"retrieve\")\n",
    "graph = graph_builder.compile()\n",
    "from IPython.display import Image, display\n",
    "\n",
    "display(Image(graph.get_graph().draw_mermaid_png()))"
   ],
   "id": "81d3594db3df86cc",
   "outputs": [
    {
     "data": {
      "image/png": "[encoded data removed]",
      "text/plain": [
       "<IPython.core.display.Image object>"
      ]
     },
     "metadata": {},
     "output_type": "display_data"
    }
   ],
   "execution_count": 28
  },
  {
   "metadata": {
    "ExecuteTime": {
     "end_time": "2025-04-22T17:56:04.006869Z",
     "start_time": "2025-04-22T17:55:52.334474Z"
    }
   },
   "cell_type": "code",
   "source": [
    "response = graph.invoke({\"question\": \"Who are the experts on ink detection?\"})\n",
    "\n",
    "print(f'Answer: {response[\"answer\"]}\\n\\n')\n",
    "print(\"*\" * 80)\n",
    "print(f'Context: {response[\"context\"]}\\n\\n')"
   ],
   "id": "999a7f063ffcbc41",
   "outputs": [
    {
     "name": "stdout",
     "output_type": "stream",
     "text": [
      "Answer: Based on the provided context, there is no direct mention of specific individuals being referred to as \"experts\" on ink detection. However, it can be inferred that certain members of the Vesuvius Challenge discord server community have made significant contributions to the discussion and development of ink detection methods.\n",
      "\n",
      "JanPaul123 seems to be a key figure in managing and organizing the competition, sharing updates, and providing resources for participants. Casey Handmer is mentioned as having written an in-depth blog post on their \"crackle\" method, which might be considered an expert-level approach.\n",
      "\n",
      "Leonid Kulyk is also mentioned as having posted an exploratory data analysis notebook on Kaggle, which suggests that they have expertise in the field of ink detection and machine learning.\n",
      "\n",
      "It's worth noting that the community seems to value diverse perspectives and approaches to ink detection, with discussions ranging from neural networks to transformers and manual \"crackle\" methods. While there is no single individual explicitly identified as an expert on ink detection, these members of the community have made significant contributions to the development and advancement of the field.\n",
      "\n",
      "\n",
      "********************************************************************************\n",
      "Context: [Document(id='26583c7c-6765-4239-a9b2-88c00e9f87a6', metadata={}, page_content='2023-03-16T18:38:51.519+00:00 - FreyaRohn: Joined the server.\\n2023-03-16T18:54:40.075+00:00 - shinypants: Joined the server.\\n2023-03-16T19:06:42.526+00:00 - JanPaul123: Some recent conversations you might want to check out:\\n- Approaches to ink detection: https://discord.com/channels/1079907749569237093/1079907750265499772/1085642630785945600\\n- People looking for collaborators: https://discord.com/channels/1079907749569237093/1085988126486437959/1085988243717234799\\n- CT scanning: https://discord.com/channels/1079907749569237093/1079907750265499772/1085878200732766249\\n- Also check out the Kaggle forum: https://www.kaggle.com/competitions/vesuvius-challenge-ink-detection/discussion\\n- Leonid Kulyk posted this exploratory data analysis notebook on Kaggle: https://www.kaggle.com/code/leonidkulyk/eda-vc-id-volume-layers-animation/notebook\\n- X-rays: https://discord.com/channels/1079907749569237093/1086331797400465489\\n- \"Analogizing Ink detection to other problem domains\" https://www.kaggle.com/competitions/vesuvius-challenge-ink-detection/discussion/395676'), Document(id='9965d654-e32d-4be8-b85d-a6c9817fb24b', metadata={}, page_content='2023-07-16T12:02:03.759+00:00 - albatross: are neural nets still the best we got for ink detection so far?'), Document(id='9283d859-b166-4510-82b4-d84c20659c05', metadata={}, page_content='2023-08-06T17:00:23.282+00:00 - JanPaul123: For those who have missed it, @Casey Handmer wrote a very in-depth blog post about his manual \"crackle\" method of (potentially) finding ink — very much worth a read and exploring further!! https://discord.com/channels/1079907749569237093/1079907750265499772/1137265335897165884'), Document(id='7d012603-aada-45f7-9fd1-d12e1386a5e0', metadata={}, page_content=\"2023-08-24T17:52:28.734+00:00 - JanPaul123: To reiterate since the deadline of the Ink Detection Followup Prize is only a few days away: we'd be VERY interested in learning how much resolution matters for ink detection performance.\\n\\nIf someone can take one of the Ink Detection Prize open source models, and retrain + rerun them with inputs scaled to different resolutions, and plot the results, we'd be very happy with a submission like that.\\n2023-08-24T17:53:10.372+00:00 - JanPaul123: Posting this here for visibility, in case someone needs a last minute weekend project.. https://discord.com/channels/1079907749569237093/1084586948708008056/1144328389851881502\"), Document(id='8c47ccfb-683b-48aa-8d9b-3097c986527c', metadata={}, page_content=\"2023-09-27T18:10:45.381+00:00 - Hari Seldon (Ben): **NEW FRAGMENTS FOR INK DETECTION**  Don't miss out on the latest segmentations in signal-dense areas - we are updating this list as we go!!  https://discord.com/channels/1079907749569237093/1079907750265499772/1154571249029222400\"), Document(id='0f39c7c0-fdd0-4235-aee9-e955293acb05', metadata={}, page_content='2023-03-18T15:37:14.388+00:00 - JanPaul123: No qualifications are needed, anyone can enter!\\n2023-03-18T15:39:32.716+00:00 - JanPaul123: This is a great thread on Kaggle: \"Analogizing Ink detection to other problem domains\" https://www.kaggle.com/competitions/vesuvius-challenge-ink-detection/discussion/395676'), Document(id='a2a87926-c373-471f-88cb-eb572928a5aa', metadata={}, page_content='2023-04-13T23:33:12.636+00:00 - 𝐚𝐧𝐢: Joined the server.\\n2023-04-13T23:42:19.577+00:00 - Moshe Levy: Has anyone tried using transformers for ink detection, is there a noticeable improvement over CNNs?'), Document(id='701714f8-98c2-4d38-aaca-d24b090100c8', metadata={}, page_content=\"2023-08-04T17:17:35.582+00:00 - JanPaul123: Reminder that if you tried to adapt models from the Ink Detection prize to the full scrolls, but it didn't work for some reason, an analysis or writeup could still qualify for the Ink Detection Followup Prize! https://scrollprize.org/ink_detection_followup\")]\n",
      "\n",
      "\n"
     ]
    }
   ],
   "execution_count": 30
  }
 ],
 "metadata": {
  "kernelspec": {
   "display_name": "Python 3",
   "language": "python",
   "name": "python3"
  },
  "language_info": {
   "codemirror_mode": {
    "name": "ipython",
    "version": 2
   },
   "file_extension": ".py",
   "mimetype": "text/x-python",
   "name": "python",
   "nbconvert_exporter": "python",
   "pygments_lexer": "ipython2",
   "version": "2.7.6"
  }
 },
 "nbformat": 4,
 "nbformat_minor": 5
}
